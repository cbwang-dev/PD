{
 "cells": [
  {
   "cell_type": "markdown",
   "metadata": {
    "colab_type": "text",
    "id": "sdX4feSRlK5m"
   },
   "source": [
    "# Basics of Keras\n",
    "[Keras homepage](https://keras.io/): Keras is a high-level neural networks API, written in Python and capable of running on top of TensorFlow, CNTK, or Theano. It was developed with a focus on enabling fast experimentation. Being able to go from idea to result with the least possible delay is key to doing good research.\n",
    "\n",
    "\n",
    "You may also consider installing the following optional dependencies:\n",
    "\n",
    "    cuDNN (recommended if you plan on running Keras on GPU).\n",
    "    HDF5 and h5py (required if you plan on saving Keras models to disk).\n",
    "    graphviz and pydot (used by visualization utilities to plot model graphs).\n",
    "\n",
    "\n",
    "\n",
    "**Installation**\n",
    "- for python2.x: pip install keras\n",
    "- for python3.x: pip3 install keras"
   ]
  },
  {
   "cell_type": "code",
   "execution_count": null,
   "metadata": {
    "colab": {},
    "colab_type": "code",
    "id": "KXCkxN66lK5r"
   },
   "outputs": [],
   "source": [
    "#!pip install keras"
   ]
  },
  {
   "cell_type": "code",
   "execution_count": 1,
   "metadata": {
    "colab": {},
    "colab_type": "code",
    "id": "K5Y6or8WlK5z",
    "outputId": "6b680593-efe9-41d5-cbab-95cb45ac9c61"
   },
   "outputs": [
    {
     "ename": "ModuleNotFoundError",
     "evalue": "No module named 'keras'",
     "output_type": "error",
     "traceback": [
      "\u001b[0;31m---------------------------------------------------------------------------\u001b[0m",
      "\u001b[0;31mModuleNotFoundError\u001b[0m                       Traceback (most recent call last)",
      "\u001b[0;32m<ipython-input-1-9571c5f5fc3e>\u001b[0m in \u001b[0;36m<module>\u001b[0;34m\u001b[0m\n\u001b[0;32m----> 1\u001b[0;31m \u001b[0;32mimport\u001b[0m \u001b[0mkeras\u001b[0m \u001b[0;31m#importing keras library\u001b[0m\u001b[0;34m\u001b[0m\u001b[0;34m\u001b[0m\u001b[0m\n\u001b[0m",
      "\u001b[0;31mModuleNotFoundError\u001b[0m: No module named 'keras'"
     ]
    }
   ],
   "source": [
    "import keras #importing keras library"
   ]
  },
  {
   "cell_type": "markdown",
   "metadata": {
    "colab_type": "text",
    "id": "kRVqzWYOlK56"
   },
   "source": [
    "### Building a network"
   ]
  },
  {
   "cell_type": "code",
   "execution_count": null,
   "metadata": {
    "colab": {},
    "colab_type": "code",
    "id": "k0gvHouNlK58"
   },
   "outputs": [],
   "source": [
    "import numpy as np\n",
    "from numpy.random import seed\n",
    "seed(1) # for reproducibility\n",
    "from keras.models import Sequential\n",
    "from keras.layers import Dense, Activation # import linear layer (Dense) and activation"
   ]
  },
  {
   "cell_type": "markdown",
   "metadata": {
    "colab_type": "text",
    "id": "lDzYyA1elK6B"
   },
   "source": [
    "#### There are two ways of building a network in keras:\n",
    "- Sequential: It allows you to build your network by adding layers one-after-other in a sequence. One drawback of this method is that you can't build networks that share layers.\n",
    "- Functional API: Here you build a network like a graph. Hence more complex networks can be built."
   ]
  },
  {
   "cell_type": "markdown",
   "metadata": {
    "colab_type": "text",
    "id": "8iGt64LrlK6D"
   },
   "source": [
    "### Sequential\n",
    "Read more: https://keras.io/models/sequential/"
   ]
  },
  {
   "cell_type": "code",
   "execution_count": null,
   "metadata": {
    "colab": {},
    "colab_type": "code",
    "id": "xD4QxYJJlK6F"
   },
   "outputs": [],
   "source": [
    "#Simple 1 layer network \n",
    "model = Sequential()\n",
    "model.add(Dense(10, input_shape=(32,)))\n",
    "model.add(Activation('softmax'))"
   ]
  },
  {
   "cell_type": "code",
   "execution_count": null,
   "metadata": {
    "colab": {},
    "colab_type": "code",
    "id": "k4Uir5lnlK6L"
   },
   "outputs": [],
   "source": [
    "model.summary() # prints the summary of the network\n",
    "# Notice in Output Shape \"None\" is batch dims, 10 is feature dims"
   ]
  },
  {
   "cell_type": "markdown",
   "metadata": {
    "colab_type": "text",
    "id": "XRBwV7uelK6R"
   },
   "source": [
    "### Functional API\n",
    "Read more: https://keras.io/getting-started/functional-api-guide/\n",
    "\n",
    "Building the same network using functional API."
   ]
  },
  {
   "cell_type": "code",
   "execution_count": null,
   "metadata": {
    "colab": {},
    "colab_type": "code",
    "id": "SvNLPYSXlK6T"
   },
   "outputs": [],
   "source": [
    "from keras.layers import Input\n",
    "from keras.models import Model\n",
    "inp = Input(shape=(32,))\n",
    "l1 = Dense(10)(inp) # See how the dense layer is pointing to inp\n",
    "act1 = Activation('softmax')(l1)\n",
    "\n",
    "model = Model(input=inp,output=act1)\n",
    "\n",
    "model.summary()"
   ]
  },
  {
   "cell_type": "code",
   "execution_count": null,
   "metadata": {
    "colab": {},
    "colab_type": "code",
    "id": "vay2JpAGlK6Y"
   },
   "outputs": [],
   "source": [
    "# Building a 2 layer NN for binary classification:\n",
    "\n",
    "#Simple 1 layer network \n",
    "model = Sequential()\n",
    "model.add(Dense(16, input_shape=(32,)))\n",
    "model.add(Activation('relu'))\n",
    "model.add(Dense(2))\n",
    "model.add(Activation('softmax'))\n",
    "model.summary()"
   ]
  },
  {
   "cell_type": "markdown",
   "metadata": {
    "colab_type": "text",
    "id": "8Ob97Mk1lK6e"
   },
   "source": [
    "#### Training\n",
    "\n",
    "- For supervised learning, we need (x,y) pairs to train our model. Where x is the input data and y is the corresponding ground truth.\n",
    "\n",
    "Lets sample x and y from a random distribution."
   ]
  },
  {
   "cell_type": "code",
   "execution_count": null,
   "metadata": {
    "colab": {},
    "colab_type": "code",
    "id": "_oMIDh9PlK6f"
   },
   "outputs": [],
   "source": [
    "# Create a set of random input vectors.\n",
    "# Both the input feature dimension and the input shape of the network should be consistent. Else you will get an error.\n",
    "x_train = np.random.rand(1000,32)\n",
    "y_train = np.random.binomial(1, 0.5, 1000) #Sampling from binomial distribution\n",
    "\n",
    "\n",
    "# Lets check our input and outputs\n",
    "\n",
    "print(\"x_train[:5]\",x_train[:5])\n",
    "print(\"y_train[:5]\",y_train[:5])"
   ]
  },
  {
   "cell_type": "markdown",
   "metadata": {
    "colab_type": "text",
    "id": "KQ0WJgIElK6n"
   },
   "source": [
    "Similarly we will create our validation and test set"
   ]
  },
  {
   "cell_type": "code",
   "execution_count": null,
   "metadata": {
    "colab": {},
    "colab_type": "code",
    "id": "59iPKMtxlK6p"
   },
   "outputs": [],
   "source": [
    "# Validation Set\n",
    "x_val = np.random.rand(250,32)\n",
    "y_val = np.random.binomial(1, 0.5, 250)\n",
    "\n",
    "# Test Set\n",
    "x_test = np.random.rand(250,32)\n",
    "y_test = np.random.binomial(1, 0.5, 250)"
   ]
  },
  {
   "cell_type": "markdown",
   "metadata": {
    "colab_type": "text",
    "id": "LASTojjKlK6t"
   },
   "source": [
    "Now we will set other hyperparameter and compile the model."
   ]
  },
  {
   "cell_type": "code",
   "execution_count": null,
   "metadata": {
    "colab": {},
    "colab_type": "code",
    "id": "HOy7j_HflK6v"
   },
   "outputs": [],
   "source": [
    "nb_batch = 32 # batch_size\n",
    "nb_epoch = 100 # no. of epochs\n",
    "# Compile model\n",
    "model.compile(optimizer='adam',\n",
    "              loss='categorical_crossentropy',\n",
    "              metrics=['accuracy'])\n",
    "# Check keras documentation for other optimizers\n",
    "# Since the task here is classification, categorical_crossentropy loss will be used.\n"
   ]
  },
  {
   "cell_type": "markdown",
   "metadata": {},
   "source": [
    "We can add some callbacks to the model. This will allow us to eg. save the training/validation accuracy and loss at each epoch ( allows you to detect overfitting!), save the model, implement early stopping, ..."
   ]
  },
  {
   "cell_type": "code",
   "execution_count": null,
   "metadata": {},
   "outputs": [],
   "source": [
    "checkpoint = keras.callbacks.ModelCheckpoint('model.h5', monitor='val_acc', verbose=1, save_best_only=True, mode='max')\n",
    "csvLogger = keras.callbacks.CSVLogger(\"training_log.csv\")\n",
    "earlyStopping = keras.callbacks.EarlyStopping(patience=20, restore_best_weights=True)\n",
    "\n",
    "callbacks_list = [checkpoint, csvLogger,earlyStopping]\n"
   ]
  },
  {
   "cell_type": "code",
   "execution_count": null,
   "metadata": {
    "colab": {},
    "colab_type": "code",
    "id": "vLSxzEcqlK6-"
   },
   "outputs": [],
   "source": [
    "model.fit(x=x_train, y=y_train, batch_size=nb_batch, epochs=nb_epoch,callbacks=callbacks_list verbose=1, validation_data=(x_val,y_val), shuffle=True)\n",
    "# Keep shuffle True while training. Why?"
   ]
  },
  {
   "cell_type": "markdown",
   "metadata": {
    "colab_type": "text",
    "id": "xQ5vN0TLlK7E"
   },
   "source": [
    "#### Questions:\n",
    "- Why the training loss is decreasing? why validation loss is increasing?\n",
    "- Why the training accuracy is increasing? why the validation accuracy is almost constant?\n"
   ]
  },
  {
   "cell_type": "code",
   "execution_count": null,
   "metadata": {
    "colab": {},
    "colab_type": "code",
    "id": "-I1uJBVQlK7G"
   },
   "outputs": [],
   "source": [
    "# Testing\n",
    "\n",
    "test_loss, test_accuracy = model.evaluate(x=x_test,y=y_test,batch_size=8)\n",
    "print(\"\\n\")\n",
    "print(\"test_loss:\",test_loss,\"    test_accuracy:\", test_accuracy)"
   ]
  },
  {
   "cell_type": "markdown",
   "metadata": {
    "colab_type": "text",
    "id": "p1Y-ezuPlK7L"
   },
   "source": [
    "## Convolutional Neural Network\n"
   ]
  },
  {
   "cell_type": "markdown",
   "metadata": {
    "colab_type": "text",
    "id": "A98vt_hBlK7M"
   },
   "source": [
    "A convolutional neural network (or CNN) is a type of neural network comprises of typically following building blocks:\n",
    "- Convolutional Layer: These are a set of kernels/filters that convolve with a signal (1D: audio,EEG, etc; 2D: Images; 3D: Videos) to find particular patterns in it based on the kernel type. The kernels or filters are learnable through gradient descent.\n",
    "- Non-linearity: Relu, Sigmoid, tanh, etc.\n",
    "- Pooling layer: Downsamples the input signal, which also reduced the necessity to have a larger convolutional layer at the output. It also introduces small translation invariance to the input signal.\n",
    "- Fully connected layer/Linear layer: They are mainly used to model the actual decision process. Example: classifier.\n",
    "\n",
    "Hence, in contrast to classical methods where features are handcrafted and then we train a classifier on those features. CNN does both learning features and classification.\n",
    "\n",
    "![Basic CNN block](cnn_architecture.svg)\n",
    "Image source: https://developers.google.com/machine-learning/practica/image-classification/convolutional-neural-networks"
   ]
  },
  {
   "cell_type": "code",
   "execution_count": null,
   "metadata": {
    "colab": {},
    "colab_type": "code",
    "id": "hjCtSgY9lK7O"
   },
   "outputs": [],
   "source": []
  }
 ],
 "metadata": {
  "colab": {
   "collapsed_sections": [],
   "name": "Basics_keras.ipynb",
   "provenance": []
  },
  "kernelspec": {
   "display_name": "Python 3",
   "language": "python",
   "name": "python3"
  },
  "language_info": {
   "codemirror_mode": {
    "name": "ipython",
    "version": 3
   },
   "file_extension": ".py",
   "mimetype": "text/x-python",
   "name": "python",
   "nbconvert_exporter": "python",
   "pygments_lexer": "ipython3",
   "version": "3.7.4"
  }
 },
 "nbformat": 4,
 "nbformat_minor": 4
}
