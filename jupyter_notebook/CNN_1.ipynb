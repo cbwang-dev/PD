{
 "cells": [
  {
   "cell_type": "markdown",
   "metadata": {
    "colab_type": "text",
    "id": "iAJUj1LWm52C"
   },
   "source": [
    "**Note**: If keras is  not already installed, execute: !pip install keras"
   ]
  },
  {
   "cell_type": "code",
   "execution_count": null,
   "metadata": {
    "colab": {},
    "colab_type": "code",
    "id": "v_xoiZWUm52E"
   },
   "outputs": [],
   "source": [
    "# Load required libraries\n",
    "import keras\n",
    "from keras.models import Sequential\n",
    "from keras.layers import Dense, Conv1D, Flatten, Activation\n",
    "from keras import regularizers\n",
    "from google.colab import drive\n",
    "drive.mount('/content/drive')"
   ]
  },
  {
   "cell_type": "code",
   "execution_count": null,
   "metadata": {
    "colab": {},
    "colab_type": "code",
    "id": "4hmbrPpkm52O"
   },
   "outputs": [],
   "source": [
    "time_window = 640;\n",
    "eeg = tf.keras.layers.Input(shape=[time_window, 64])\n",
    "env1 = tf.keras.layers.Input(shape=[time_window, 1])\n",
    "env2 = tf.keras.layers.Input(shape=[time_window, 1])\n",
    "\n",
    "#add model layers\n",
    "filters = 1\n",
    "kernel_size = 16\n",
    "eeg_conv = tf.keras.layers.Conv1D(filters, kernel_size=kernel_size)(eeg)\n",
    "cos1 = tf.keras.layers.Dot(1,normalize= True)([eeg_conv , env1[:,:-(kernel_size-1),:]])\n",
    "cos2 = tf.keras.layers.Dot(1,normalize= True)([eeg_conv , env2[:,:-(kernel_size-1),:]])\n",
    "\n",
    "# Classification\n",
    "cos_similarity = tf.keras.layers.Concatenate()([cos1, cos2])\n",
    "cos_flat = tf.keras.layers.Flatten()(cos_similarity)\n",
    "out1 = tf.keras.layers.Dense(1, activation=\"sigmoid\")(\n",
    "    tf.keras.layers.Flatten()(tf.keras.layers.Concatenate()([cos1, cos2])))\n",
    "\n",
    "# 1 output per batch\n",
    "out = tf.keras.layers.Reshape([1], name=output_name)(out1)\n",
    "model = tf.keras.Model(inputs=[eeg, env1, env2], outputs=[out])"
   ]
  },
  {
   "cell_type": "code",
   "execution_count": null,
   "metadata": {
    "colab": {},
    "colab_type": "code",
    "id": "lvReB1npm52U"
   },
   "outputs": [],
   "source": [
    "# To check the model summary:\n",
    "model.summary()"
   ]
  },
  {
   "cell_type": "markdown",
   "metadata": {},
   "source": [
    "Before we start training the model, we need to make sure that the data is equally balanced. We have attended and unattended envelopes that we give to the model. If we always put the attended envelope at stream 1 and the unattended at stream 2, the model will quickly figure out that it should just always output stream 1 and hence not learn anything. \n",
    "\n",
    "The solution to this is to present each segment of EEG twice, where we swap the envelopes, ( and thus, the labels), from place "
   ]
  },
  {
   "cell_type": "code",
   "execution_count": null,
   "metadata": {},
   "outputs": [],
   "source": [
    "\n",
    "def batch_equalizer(eeg, env_1, env_2, labels):\n",
    "    # present each of the eeg segments twice, where the envelopes, and thus the labels \n",
    "    # are swapped around. EEG presented in small segments [bs, window_length, 64]\n",
    "    return (np.concatenate([eeg,eeg], axis=0), np.concatenate([env_1, env_2], axis=0),np.concatenate([ env_2, env_1], axis=0)), np.concatenate([labels, (labels+1)%2], axis=0)\n"
   ]
  },
  {
   "cell_type": "markdown",
   "metadata": {
    "colab_type": "text",
    "id": "G3mzuy-jm52i"
   },
   "source": [
    "* Now we prepare our data to train the model."
   ]
  },
  {
   "cell_type": "code",
   "execution_count": null,
   "metadata": {
    "colab": {},
    "colab_type": "code",
    "id": "3X0Vn9JWm52k"
   },
   "outputs": [],
   "source": [
    "import h5py\n",
    "import numpy as np\n",
    "\n",
    "# To load the mat file in v7.3 format. For all previous formats use scipy.io loadmat (https://docs.scipy.org/doc/scipy/reference/generated/scipy.io.loadmat.html)\n",
    "def load_large_mat(filepath):\n",
    "    arrays = {}\n",
    "    f = h5py.File(filepath)\n",
    "    for k, v in f.items():\n",
    "        arrays[k] = np.array(v)\n",
    "    f.close()\n",
    "    return arrays"
   ]
  },
  {
   "cell_type": "code",
   "execution_count": null,
   "metadata": {
    "colab": {},
    "colab_type": "code",
    "id": "DuPGMqTKm52p"
   },
   "outputs": [],
   "source": [
    "# Preprocessing\n",
    "def fn_all(fnarrays1,fnarrays2):\n",
    "    #------add your prerprocessing steps here\n",
    "    fnxtr_all = fnarrays1\n",
    "    fny_tr_all = fnarrays2\n",
    "    x = np.expand_dims(fnxtr_all,-1)\n",
    "    \n",
    "    return x,y"
   ]
  }
 ],
 "metadata": {
  "colab": {
   "collapsed_sections": [],
   "name": "CNN_S_D.ipynb",
   "provenance": []
  },
  "kernelspec": {
   "display_name": "Python 3",
   "language": "python",
   "name": "python3"
  },
  "language_info": {
   "codemirror_mode": {
    "name": "ipython",
    "version": 3
   },
   "file_extension": ".py",
   "mimetype": "text/x-python",
   "name": "python",
   "nbconvert_exporter": "python",
   "pygments_lexer": "ipython3",
   "version": "3.7.4"
  }
 },
 "nbformat": 4,
 "nbformat_minor": 4
}
